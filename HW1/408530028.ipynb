{
  "cells": [
    {
      "cell_type": "markdown",
      "metadata": {
        "id": "QB1TJ57uAYNp"
      },
      "source": [
        "# TensorFlow Tutorial\n",
        "\n",
        "Welcome to this programming assignment which is a homework. Until now, you've always used numpy to build neural networks. Now we will step you through a deep learning framework that will allow you to build neural networks more easily. Machine learning frameworks like TensorFlow, PaddlePaddle, Torch, Caffe, Keras, and many others can speed up your machine learning development significantly. All of these frameworks also have a lot of documentation, which you should feel free to read. In this assignment, you will learn to do the following in TensorFlow: \n",
        "\n",
        "- Initialize variables\n",
        "- Start your own session\n",
        "- Train algorithms \n",
        "- Implement a Neural Network\n",
        "\n",
        "Programing frameworks can not only shorten your coding time, but sometimes also perform optimizations that speed up your code. \n",
        "\n"
      ]
    },
    {
      "cell_type": "markdown",
      "source": [
        "## 1 - Exploring the Tensorflow Library\n",
        "\n",
        "To start, you will import the library:\n"
      ],
      "metadata": {
        "id": "BnOLxaX7kqj0"
      }
    },
    {
      "cell_type": "code",
      "execution_count": 103,
      "metadata": {
        "colab": {
          "base_uri": "https://localhost:8080/"
        },
        "id": "rmRp-n0jAYNr",
        "outputId": "1464746c-3323-466e-8609-7f9587542fd3"
      },
      "outputs": [
        {
          "output_type": "stream",
          "name": "stdout",
          "text": [
            "2.11.0\n"
          ]
        }
      ],
      "source": [
        "import math\n",
        "import numpy as np\n",
        "import h5py\n",
        "import matplotlib.pyplot as plt\n",
        "import pandas as pd\n",
        "import seaborn as sns  \n",
        "import os\n",
        "import tensorflow as tf\n",
        "\n",
        "print(tf.__version__)\n"
      ]
    },
    {
      "cell_type": "markdown",
      "metadata": {
        "id": "CkHVkOS3AYNr"
      },
      "source": [
        "Now that you have imported the library, we will walk you through its different applications. You will start with an example, where we compute for you the loss of one training example. \n",
        "$$loss = \\mathcal{L}(\\hat{y}, y) = (\\hat y^{(i)} - y^{(i)})^2 \\tag{1}$$"
      ]
    },
    {
      "cell_type": "code",
      "execution_count": 104,
      "metadata": {
        "colab": {
          "base_uri": "https://localhost:8080/"
        },
        "id": "XdmIjrFhAYNs",
        "outputId": "7a93574d-5793-4bcd-9216-567d17780063"
      },
      "outputs": [
        {
          "output_type": "stream",
          "name": "stdout",
          "text": [
            "9\n"
          ]
        }
      ],
      "source": [
        "\n",
        "y_hat = tf.constant(36, name='y_hat')            # Define y_hat constant. Set to 36.\n",
        "y = tf.constant(39, name='y')                # Define y. Set to 39\n",
        "\n",
        "loss = (y - y_hat)**2                    \n",
        "\n",
        "print(loss.numpy())\n",
        "\n"
      ]
    },
    {
      "cell_type": "markdown",
      "metadata": {
        "id": "bxJe-rFLAYNs"
      },
      "source": [
        "Writing and running programs in TensorFlow has the following steps:\n",
        "\n",
        "1. Create Tensors (variables) that are not yet executed/evaluated. \n",
        "2. Write operations between those Tensors.\n",
        "3. Create a TensorFlow function (which replaces the Session in TensorFlow 1.x).\n",
        "4. Run the function to execute the operations. \n",
        " \n",
        "\n"
      ]
    },
    {
      "cell_type": "markdown",
      "source": [
        "In TensorFlow 2, Eager Mode is enabled by default. Eager Mode is a mode of operation that allows for immediate evaluation of operations. So you can execute TensorFlow operations like regular Python code, without the need to explicitly build a computational graph and run a session to execute the graph."
      ],
      "metadata": {
        "id": "1gGlfAweuZiS"
      }
    },
    {
      "cell_type": "code",
      "source": [
        "\n",
        "tf.executing_eagerly()"
      ],
      "metadata": {
        "colab": {
          "base_uri": "https://localhost:8080/"
        },
        "id": "epNyqJfBs50h",
        "outputId": "2ae560ef-6707-4795-f1f9-c2955a2c1986"
      },
      "execution_count": 105,
      "outputs": [
        {
          "output_type": "execute_result",
          "data": {
            "text/plain": [
              "True"
            ]
          },
          "metadata": {},
          "execution_count": 105
        }
      ]
    },
    {
      "cell_type": "markdown",
      "metadata": {
        "id": "vo76HSsoAYNu"
      },
      "source": [
        "### 1.1 - Linear function\n",
        "\n",
        "Lets start this programming exercise by computing the following equation: $Y = WX + b$, where $W$ and $X$ are random matrices and b is a random vector. \n",
        "\n",
        "**Exercise**: Compute $WX + b$ where $W, X$, and $b$ are drawn from a random normal distribution. W is of shape (4, 3), X is (3,1) and b is (4,1). As an example, here is how you would define a constant X that has shape (3,1):\n",
        "```python\n",
        "X = tf.constant(np.random.randn(3,1), name = \"X\")\n",
        "\n",
        "```\n",
        "You might find the following functions helpful: \n",
        "- tf.matmul(..., ...) to do a matrix multiplication\n",
        "- tf.add(..., ...) to do an addition\n",
        "- np.random.randn(...) to initialize randomly\n"
      ]
    },
    {
      "cell_type": "code",
      "execution_count": 106,
      "metadata": {
        "id": "uTKzLiPfAYNu"
      },
      "outputs": [],
      "source": [
        "# GRADED FUNCTION: linear_function\n",
        "\n",
        "def linear_function():\n",
        "    \"\"\"\n",
        "    Implements a linear function: \n",
        "            Initializes W to be a random tensor of shape (4,3)\n",
        "            Initializes X to be a random tensor of shape (3,1)\n",
        "            Initializes b to be a random tensor of shape (4,1)\n",
        "    Returns: \n",
        "    result -- Y = WX + b \n",
        "    \"\"\"\n",
        "    \n",
        "    np.random.seed(1)\n",
        "    \n",
        "    ### START CODE HERE ### (4 lines of code)\n",
        "    W = tf.constant(np.random.randn(4,3), name = \"W\")\n",
        "    X = tf.constant(np.random.randn(3,1), name = \"X\")\n",
        "    b = tf.constant(np.random.randn(4,1), name = \"b\")\n",
        "    Y = tf.add(tf.matmul(W,X), b)\n",
        "    ### END CODE HERE ### \n",
        "    \n",
        "    result = Y.numpy()\n",
        "\n",
        "    return result"
      ]
    },
    {
      "cell_type": "code",
      "execution_count": 107,
      "metadata": {
        "colab": {
          "base_uri": "https://localhost:8080/"
        },
        "id": "Q-gYHSpiAYNv",
        "outputId": "f5db0451-d6b1-46e9-d828-b1408209377d"
      },
      "outputs": [
        {
          "output_type": "stream",
          "name": "stdout",
          "text": [
            "result = [[-1.98748544]\n",
            " [-2.76826248]\n",
            " [-0.78635415]\n",
            " [-2.77463846]]\n"
          ]
        }
      ],
      "source": [
        "print( \"result = \" + str(linear_function()))"
      ]
    },
    {
      "cell_type": "markdown",
      "metadata": {
        "id": "Lc9iCfYMAYNv"
      },
      "source": [
        "*** Expected Output ***: \n",
        "\n",
        "<table> \n",
        "<tr> \n",
        "<td>\n",
        "**result**\n",
        "</td>\n",
        "<td>\n",
        "[[-2.15657382]\n",
        " [ 2.95891446]\n",
        " [-1.08926781]\n",
        " [-0.84538042]]\n",
        "</td>\n",
        "</tr> \n",
        "\n",
        "</table> "
      ]
    },
    {
      "cell_type": "markdown",
      "source": [],
      "metadata": {
        "id": "mf4ATfZA16Dj"
      }
    },
    {
      "cell_type": "markdown",
      "metadata": {
        "id": "z928OEerAYNv"
      },
      "source": [
        "### 1.2 - Computing the sigmoid \n",
        "Great! You just implemented a linear function. Tensorflow offers a variety of commonly used neural network functions like `tf.sigmoid` and `tf.softmax`. For this exercise lets define your own sigmoid function as an input. \n",
        "\n",
        "**<font color='red'>!!! Directly call function (eg. tf.math.sigmoid(x) ) is prohibited. Please implement it using the mathematical formula.**\n",
        "\n",
        "\n",
        "\n",
        "\n",
        "\n",
        "\n",
        "\n"
      ]
    },
    {
      "cell_type": "code",
      "execution_count": 108,
      "metadata": {
        "id": "jUiGY00IAYNv"
      },
      "outputs": [],
      "source": [
        "# GRADED FUNCTION: sigmoid\n",
        "\n",
        "def sigmoid(z):\n",
        "  \n",
        "  ### START CODE HERE ### (1 lines of code)\n",
        "  return 1 / (1 + np.exp(-z))\n",
        "  ### END CODE HERE ### \n",
        "  "
      ]
    },
    {
      "cell_type": "code",
      "execution_count": 109,
      "metadata": {
        "colab": {
          "base_uri": "https://localhost:8080/"
        },
        "id": "cDa2E9UtAYNv",
        "outputId": "38d29784-ee84-4a6a-febf-98f14ff158a0"
      },
      "outputs": [
        {
          "output_type": "stream",
          "name": "stdout",
          "text": [
            "sigmoid(0) = 0.5\n",
            "sigmoid(12) = 0.9999938558253978\n"
          ]
        }
      ],
      "source": [
        "print (\"sigmoid(0) = \" + str(sigmoid(0)))\n",
        "print (\"sigmoid(12) = \" + str(sigmoid(12)))"
      ]
    },
    {
      "cell_type": "markdown",
      "metadata": {
        "id": "Z1txD9J9AYNv"
      },
      "source": [
        "*** Expected Output ***: \n",
        "\n",
        "<table> \n",
        "<tr> \n",
        "<td>\n",
        "**sigmoid(0)**\n",
        "</td>\n",
        "<td>\n",
        "0.5\n",
        "</td>\n",
        "</tr>\n",
        "<tr> \n",
        "<td>\n",
        "**sigmoid(12)**\n",
        "</td>\n",
        "<td>\n",
        "0.999994\n",
        "</td>\n",
        "</tr> \n",
        "\n",
        "</table> "
      ]
    },
    {
      "cell_type": "markdown",
      "metadata": {
        "id": "UpafxqxjAYNw"
      },
      "source": [
        "### 1.3 -  Computing the Cost\n",
        "\n",
        "You can also use a built-in function to compute the cost of your neural network. So instead of needing to write code to compute this as a function of $a^{[2](i)}$ and $y^{(i)}$ for i=1...m: \n",
        "$$ J = - \\frac{1}{m}  \\sum_{i = 1}^m  \\large ( \\small y^{(i)} \\log a^{ [2] (i)} + (1-y^{(i)})\\log (1-a^{ [2] (i)} )\\large )\\small\\tag{2}$$\n",
        "\n",
        "you can do it in one line of code in tensorflow!\n",
        "\n",
        "**Exercise**: Implement the cross entropy loss. The function you will use is: \n",
        "\n",
        "\n",
        "- `tf.nn.sigmoid_cross_entropy_with_logits(logits = ...,  labels = ...)`\n",
        "\n",
        "Your code should input `logits`, compute the sigmoid (to get `a`) and then compute the cross entropy cost $J$. All this can be done using one call to `tf.nn.sigmoid_cross_entropy_with_logits`, which computes\n",
        "\n",
        "$$- \\frac{1}{m}  \\sum_{i = 1}^m  \\large ( \\small y^{(i)} \\log \\sigma(z^{[2](i)}) + (1-y^{(i)})\\log (1-\\sigma(z^{[2](i)})\\large )\\small\\tag{2}$$\n",
        "\n"
      ]
    },
    {
      "cell_type": "code",
      "execution_count": 110,
      "metadata": {
        "id": "yEsvGugcAYNw"
      },
      "outputs": [],
      "source": [
        "# GRADED FUNCTION: cost\n",
        "\n",
        "def cost(logits, labels):\n",
        "    \"\"\"\n",
        "    Computes the cost using the sigmoid cross entropy\n",
        "    \n",
        "    Arguments:\n",
        "    logits -- output of the last linear unit (before the final sigmoid activation)\n",
        "    labels -- vector of labels (1 or 0) \n",
        "    \n",
        "    \n",
        "    Returns:\n",
        "    cost -- runs the session of the cost (formula (2))\n",
        "    \"\"\"\n",
        "    \n",
        "    ### START CODE HERE ### \n",
        "    \n",
        "    \n",
        "    # Use the loss function (approx. 1 line)\n",
        "    cost = tf.nn.sigmoid_cross_entropy_with_logits(logits = logits, labels = labels)\n",
        "    \n",
        "    \n",
        "    ### END CODE HERE ###\n",
        "    \n",
        "    return cost"
      ]
    },
    {
      "cell_type": "code",
      "execution_count": 111,
      "metadata": {
        "colab": {
          "base_uri": "https://localhost:8080/"
        },
        "id": "M5HTz8_nAYNw",
        "outputId": "a50eba15-4206-4d07-f355-c303a0092d40"
      },
      "outputs": [
        {
          "output_type": "stream",
          "name": "stdout",
          "text": [
            "cost = [1.00538722 1.03664083 0.41385432 0.39956614]\n"
          ]
        }
      ],
      "source": [
        "logits = sigmoid(np.array([0.2, 0.4, 0.7, 0.9], dtype=np.float64))\n",
        "labels = np.array([0, 0, 1, 1], dtype=np.float64)\n",
        "\n",
        "cost = cost(logits, labels)\n",
        "print(\"cost =\", cost.numpy())"
      ]
    },
    {
      "cell_type": "markdown",
      "metadata": {
        "id": "ZxxzH-GDAYNw"
      },
      "source": [
        "** Expected Output** : \n",
        "\n",
        "<table> \n",
        "    <tr> \n",
        "        <td>\n",
        "            **cost**\n",
        "        </td>\n",
        "        <td>\n",
        "        [ 1.00538719  1.03664088  0.41385433  0.39956614]\n",
        "        </td>\n",
        "    </tr>\n",
        "\n",
        "</table>"
      ]
    },
    {
      "cell_type": "markdown",
      "metadata": {
        "id": "2tv4usBmAYNx"
      },
      "source": [
        "### 1.4 - Using One Hot encodings\n",
        "\n",
        "Many times in deep learning you will have a y vector with numbers ranging from 0 to C-1, where C is the number of classes. If C is for example 4, then you might have the following y vector which you will need to convert as follows:\n",
        "\n",
        "![onehot](https://drive.google.com/uc?export=view&id=1gPUoSaHHRDueUB_VQtZHzcjQMArjcJQ3)\n",
        "\n",
        "\n",
        "This is called a \"one hot\" encoding, because in the converted representation exactly one element of each column is \"hot\" (meaning set to 1). To do this conversion in numpy, you might have to write a few lines of code. In tensorflow, you can use one line of code: \n",
        "\n",
        "- tf.one_hot(labels, depth, axis) \n",
        "\n",
        "**Exercise:** Implement the function below to take one vector of labels and the total number of classes $C$, and return the one hot encoding. Use `tf.one_hot()` to do this. "
      ]
    },
    {
      "cell_type": "code",
      "execution_count": 112,
      "metadata": {
        "id": "L--ok4ZhAYNx"
      },
      "outputs": [],
      "source": [
        "# GRADED FUNCTION: one_hot_matrix\n",
        "\n",
        "def one_hot_matrix(labels, C):\n",
        "    \"\"\"\n",
        "    Creates a matrix where the i-th row corresponds to the ith class number and the jth column\n",
        "                     corresponds to the jth training example. So if example j had a label i. Then entry (i,j) \n",
        "                     will be 1. \n",
        "                     \n",
        "    Arguments:\n",
        "    labels -- vector containing the labels \n",
        "    C -- number of classes, the depth of the one hot dimension\n",
        "    \n",
        "    Returns: \n",
        "    one_hot -- one hot matrix\n",
        "    \"\"\"\n",
        "    \n",
        "    ### START CODE HERE ###\n",
        "    \n",
        "    # Create a tf.constant equal to C (depth), name it 'C'. (approx. 1 line)\n",
        "    C = tf.constant(C, name = \"C\")\n",
        "    \n",
        "    # Use tf.one_hot, be careful with the axis (approx. 1 line)\n",
        "    # one_hot = tf.transpose(tf.one_hot(labels, C))\n",
        "    one_hot = tf.one_hot(labels, C, axis = 0)\n",
        "    \n",
        "    ### END CODE HERE ###\n",
        "    return one_hot"
      ]
    },
    {
      "cell_type": "code",
      "execution_count": 113,
      "metadata": {
        "colab": {
          "base_uri": "https://localhost:8080/"
        },
        "id": "yUc-7vmRAYNx",
        "outputId": "69cf3da4-1061-411b-8b68-9cd5bd774aa1"
      },
      "outputs": [
        {
          "output_type": "stream",
          "name": "stdout",
          "text": [
            "one_hot = [[0. 0. 0. 1. 0. 0.]\n",
            " [1. 0. 0. 0. 0. 1.]\n",
            " [0. 1. 0. 0. 1. 0.]\n",
            " [0. 0. 1. 0. 0. 0.]]\n"
          ]
        }
      ],
      "source": [
        "labels = np.array([1,2,3,0,2,1])\n",
        "one_hot = one_hot_matrix(labels, C = 4)\n",
        "print (\"one_hot = \" + str(one_hot.numpy()))"
      ]
    },
    {
      "cell_type": "markdown",
      "metadata": {
        "id": "K8_G1ZB_AYNx"
      },
      "source": [
        "**Expected Output**: \n",
        "\n",
        "<table> \n",
        "    <tr> \n",
        "        <td>\n",
        "            **one_hot**\n",
        "        </td>\n",
        "        <td>\n",
        "        [[ 0.  0.  0.  1.  0.  0.]\n",
        " [ 1.  0.  0.  0.  0.  1.]\n",
        " [ 0.  1.  0.  0.  1.  0.]\n",
        " [ 0.  0.  1.  0.  0.  0.]]\n",
        "        </td>\n",
        "    </tr>\n",
        "\n",
        "</table>\n"
      ]
    },
    {
      "cell_type": "markdown",
      "metadata": {
        "id": "XMEPfqVcAYNy"
      },
      "source": [
        "### 1.5 - Initialize with zeros and ones\n",
        "\n",
        "Now you will learn how to initialize a vector of zeros and ones. The function you will be calling is `tf.ones()`. To initialize with zeros you could use `tf.zeros()` instead. These functions take in a shape and return an array of dimension shape full of zeros and ones respectively. \n"
      ]
    },
    {
      "cell_type": "code",
      "execution_count": 114,
      "metadata": {
        "id": "d9tHHHuRAYNy"
      },
      "outputs": [],
      "source": [
        "# GRADED FUNCTION: ones\n",
        "\n",
        "def ones(shape):\n",
        "    \"\"\"\n",
        "    Creates an array of ones of dimension shape\n",
        "    \n",
        "    Arguments:\n",
        "    shape -- shape of the array you want to create\n",
        "        \n",
        "    Returns: \n",
        "    ones -- array containing only ones\n",
        "    \"\"\"\n",
        "    \n",
        "    ### START CODE HERE ###\n",
        "    \n",
        "    # Create \"ones\" tensor using tf.ones(...). (approx. 1 line)\n",
        "    ones = tf.ones(shape)\n",
        "    \n",
        "    \n",
        "    ### END CODE HERE ###\n",
        "    return ones"
      ]
    },
    {
      "cell_type": "code",
      "execution_count": 115,
      "metadata": {
        "colab": {
          "base_uri": "https://localhost:8080/"
        },
        "id": "9APtZi6_AYNy",
        "outputId": "bd5e2d9c-e02e-49de-8c67-3ecf54826494"
      },
      "outputs": [
        {
          "output_type": "stream",
          "name": "stdout",
          "text": [
            "ones = [1. 1. 1.]\n"
          ]
        }
      ],
      "source": [
        "print (\"ones = \" + str(np.ones([3])))"
      ]
    },
    {
      "cell_type": "markdown",
      "metadata": {
        "id": "EOXpwlRHAYNy"
      },
      "source": [
        "**Expected Output:**\n",
        "\n",
        "<table> \n",
        "    <tr> \n",
        "        <td>\n",
        "            **ones**\n",
        "        </td>\n",
        "        <td>\n",
        "        [ 1.  1.  1.]\n",
        "        </td>\n",
        "    </tr>\n",
        "\n",
        "</table>"
      ]
    },
    {
      "cell_type": "markdown",
      "source": [
        "# 2 - Building your first neural network in tensorflow \n",
        "In this homework assignment, you will use TensorFlow to build and train a neural network model on the Fashion-MNIST dataset. Fashion-MNIST is a dataset of images of clothing items, with 10 categories of clothing types (e.g., t-shirt, dress, sneakers, etc.). The goal of this assignment is to build a model that can classify each clothing item image into its corresponding category. Let's delve into the problem you'd like to solve! \n",
        "### 2.0 - Problem statement: Fashion-MNIST \n",
        "Your task is to build a neural network model using TensorFlow that can accurately classify each clothing item image into its corresponding category. You should use the following specifications for your model: \n",
        "- The model should have 2 hidden layers, each with 128 nodes, and an output layer with 10 nodes (one for each category). \n",
        "- The activation function for the hidden layers should be ReLU. \n",
        "- The activation function for the output layer should be softmax.\n",
        "- You should use the categorical cross-entropy loss function.\n",
        "- You should use the SGD optimizer with a learning rate of 0.001.\n",
        "- You should train the model for 10 epochs, with a batch size of 32.\n",
        "- You should evaluate your model's accuracy on the test set and report the results.\n",
        "\n",
        "- **Training set**: 60,000 images (28 by 28 pixels) of clothing items, each labeled with a category from 10 possible categories. \n",
        "- **Test set**: 10,000 images (28 by 28 pixels) of clothing items, each labeled with a category from 10 possible categories.\n",
        "\n",
        "![fashin-mnist](https://drive.google.com/uc?export=view&id=1UiieVMbUZ-5K8l3Nzuzba8IZVvfDTJE_)\n"
      ],
      "metadata": {
        "id": "wt6HK9AVcDHa"
      }
    },
    {
      "cell_type": "markdown",
      "source": [
        " Import the library:"
      ],
      "metadata": {
        "id": "Ih5tXOkdez_p"
      }
    },
    {
      "cell_type": "code",
      "source": [
        "import pandas as pd \n",
        "import numpy as np\n",
        "import matplotlib.pyplot as plt \n",
        "import seaborn as sns \n",
        "\n",
        "\n",
        "%matplotlib inline \n",
        "import warnings\n",
        "warnings.filterwarnings('ignore')\n",
        "\n",
        "\n",
        "import tensorflow as tf\n",
        "from tensorflow import keras\n",
        "from tensorflow.keras.models import Sequential\n",
        "from tensorflow.keras.layers import InputLayer\n",
        "from tensorflow.keras.layers import Dense\n",
        "from tensorflow.keras.layers import Flatten\n",
        "from tensorflow.keras.optimizers import SGD\n",
        "from tensorflow.keras.losses import SparseCategoricalCrossentropy\n",
        "from tensorflow.keras.utils import plot_model\n",
        "\n",
        "\n",
        "from sklearn.metrics import confusion_matrix\n",
        "from sklearn.metrics import classification_report, accuracy_score\n",
        "\n",
        "!pip install mlxtend\n",
        "import mlxtend as ml\n",
        "from mlxtend.plotting import plot_confusion_matrix"
      ],
      "metadata": {
        "colab": {
          "base_uri": "https://localhost:8080/"
        },
        "id": "fGmdpuOCezzz",
        "outputId": "31aef0e0-0202-4278-f90c-6c5606909895"
      },
      "execution_count": 116,
      "outputs": [
        {
          "output_type": "stream",
          "name": "stdout",
          "text": [
            "Looking in indexes: https://pypi.org/simple, https://us-python.pkg.dev/colab-wheels/public/simple/\n",
            "Requirement already satisfied: mlxtend in /usr/local/lib/python3.8/dist-packages (0.14.0)\n",
            "Requirement already satisfied: setuptools in /usr/local/lib/python3.8/dist-packages (from mlxtend) (57.4.0)\n",
            "Requirement already satisfied: scikit-learn>=0.18 in /usr/local/lib/python3.8/dist-packages (from mlxtend) (1.2.1)\n",
            "Requirement already satisfied: pandas>=0.17.1 in /usr/local/lib/python3.8/dist-packages (from mlxtend) (1.3.5)\n",
            "Requirement already satisfied: scipy>=0.17 in /usr/local/lib/python3.8/dist-packages (from mlxtend) (1.10.1)\n",
            "Requirement already satisfied: numpy>=1.10.4 in /usr/local/lib/python3.8/dist-packages (from mlxtend) (1.22.4)\n",
            "Requirement already satisfied: matplotlib>=1.5.1 in /usr/local/lib/python3.8/dist-packages (from mlxtend) (3.5.3)\n",
            "Requirement already satisfied: cycler>=0.10 in /usr/local/lib/python3.8/dist-packages (from matplotlib>=1.5.1->mlxtend) (0.11.0)\n",
            "Requirement already satisfied: packaging>=20.0 in /usr/local/lib/python3.8/dist-packages (from matplotlib>=1.5.1->mlxtend) (23.0)\n",
            "Requirement already satisfied: kiwisolver>=1.0.1 in /usr/local/lib/python3.8/dist-packages (from matplotlib>=1.5.1->mlxtend) (1.4.4)\n",
            "Requirement already satisfied: pillow>=6.2.0 in /usr/local/lib/python3.8/dist-packages (from matplotlib>=1.5.1->mlxtend) (8.4.0)\n",
            "Requirement already satisfied: fonttools>=4.22.0 in /usr/local/lib/python3.8/dist-packages (from matplotlib>=1.5.1->mlxtend) (4.38.0)\n",
            "Requirement already satisfied: python-dateutil>=2.7 in /usr/local/lib/python3.8/dist-packages (from matplotlib>=1.5.1->mlxtend) (2.8.2)\n",
            "Requirement already satisfied: pyparsing>=2.2.1 in /usr/local/lib/python3.8/dist-packages (from matplotlib>=1.5.1->mlxtend) (3.0.9)\n",
            "Requirement already satisfied: pytz>=2017.3 in /usr/local/lib/python3.8/dist-packages (from pandas>=0.17.1->mlxtend) (2022.7.1)\n",
            "Requirement already satisfied: threadpoolctl>=2.0.0 in /usr/local/lib/python3.8/dist-packages (from scikit-learn>=0.18->mlxtend) (3.1.0)\n",
            "Requirement already satisfied: joblib>=1.1.1 in /usr/local/lib/python3.8/dist-packages (from scikit-learn>=0.18->mlxtend) (1.2.0)\n",
            "Requirement already satisfied: six>=1.5 in /usr/local/lib/python3.8/dist-packages (from python-dateutil>=2.7->matplotlib>=1.5.1->mlxtend) (1.15.0)\n"
          ]
        }
      ]
    },
    {
      "cell_type": "code",
      "execution_count": 117,
      "metadata": {
        "id": "aV_O3HGvAYNy"
      },
      "outputs": [],
      "source": [
        "# Loading the dataset\n",
        "fashion_mnist = keras.datasets.fashion_mnist\n",
        "(x_train, y_train), (x_test, y_test) = keras.datasets.fashion_mnist.load_data()"
      ]
    },
    {
      "cell_type": "markdown",
      "metadata": {
        "id": "oYjTfsuCAYNz"
      },
      "source": [
        "setting training and testing sets"
      ]
    },
    {
      "cell_type": "code",
      "execution_count": 118,
      "metadata": {
        "id": "FeKztdEYAYNz"
      },
      "outputs": [],
      "source": [
        "# train and test \n",
        "(X_train, y_train), (X_test, y_test) = fashion_mnist.load_data()"
      ]
    },
    {
      "cell_type": "markdown",
      "source": [
        "The images are 28x28 NumPy arrays, with pixel values between 0 to 255. The labels (target of classification) are an array of integers, in the range 0 to 9. This corresponds with the class of clothes that each image represents:\n",
        "\n",
        "\n",
        "0. T-shirt/top\n",
        "1. Trouser  \n",
        "2. Pullover  \n",
        "3. Dress\n",
        "4. Coat\n",
        "5. Sandal\n",
        "6. Shirt\n",
        "7. Sneaker\n",
        "8. Bag\n",
        "9. Ankle boot\n",
        "\n",
        "\n"
      ],
      "metadata": {
        "id": "nbucWHpDecUB"
      }
    },
    {
      "cell_type": "code",
      "source": [
        "# class \n",
        "class_names = ['T-shirt/top', 'Trouser', 'Pullover', 'Dress', 'Coat','Sandal', 'Shirt', 'Sneaker', 'Bag', 'Ankle boot']"
      ],
      "metadata": {
        "id": "WDIqidbbgXL7"
      },
      "execution_count": 119,
      "outputs": []
    },
    {
      "cell_type": "markdown",
      "source": [
        "you can check your training set and test set "
      ],
      "metadata": {
        "id": "Ea8kzRizgbEX"
      }
    },
    {
      "cell_type": "code",
      "source": [
        "# shap of train  \n",
        "X_train.shape"
      ],
      "metadata": {
        "colab": {
          "base_uri": "https://localhost:8080/"
        },
        "id": "gT56DY0IedMD",
        "outputId": "7c3fd697-87b8-4021-d0bd-5de69fee469e"
      },
      "execution_count": 120,
      "outputs": [
        {
          "output_type": "execute_result",
          "data": {
            "text/plain": [
              "(60000, 28, 28)"
            ]
          },
          "metadata": {},
          "execution_count": 120
        }
      ]
    },
    {
      "cell_type": "code",
      "source": [
        "# shape of test\n",
        "X_test.shape"
      ],
      "metadata": {
        "colab": {
          "base_uri": "https://localhost:8080/"
        },
        "id": "uJGU4zHbgs0P",
        "outputId": "1e213a2a-43fd-4285-f28c-2061b6ff7d32"
      },
      "execution_count": 121,
      "outputs": [
        {
          "output_type": "execute_result",
          "data": {
            "text/plain": [
              "(10000, 28, 28)"
            ]
          },
          "metadata": {},
          "execution_count": 121
        }
      ]
    },
    {
      "cell_type": "markdown",
      "source": [
        "We can  plot the first image in the training set using `plt.imshow()`, and add a color bar and grid lines for clarity. You can try to change the number of elements in X_train[].\n"
      ],
      "metadata": {
        "id": "W0maAJTyhbCa"
      }
    },
    {
      "cell_type": "code",
      "source": [
        "# images\n",
        "for i in range(0,4):\n",
        "  plt.figure(figsize=(12,6))\n",
        "  plt.imshow(X_train[i])\n",
        "  plt.colorbar()\n",
        "  plt.grid(False)\n",
        "  plt.show()"
      ],
      "metadata": {
        "colab": {
          "base_uri": "https://localhost:8080/",
          "height": 1000
        },
        "id": "sRqoHiIKjZye",
        "outputId": "02414bf4-d4c7-4d8d-c45b-c4b158b74a0d"
      },
      "execution_count": 122,
      "outputs": [
        {
          "output_type": "display_data",
          "data": {
            "text/plain": [
              "<Figure size 864x432 with 2 Axes>"
            ],
            "image/png": "[encoded data removed]"
          },
          "metadata": {
            "needs_background": "light"
          }
        },
        {
          "output_type": "display_data",
          "data": {
            "text/plain": [
              "<Figure size 864x432 with 2 Axes>"
            ],
            "image/png": "[encoded data removed]"
          },
          "metadata": {
            "needs_background": "light"
          }
        },
        {
          "output_type": "display_data",
          "data": {
            "text/plain": [
              "<Figure size 864x432 with 2 Axes>"
            ],
            "image/png": "[encoded data removed]"
          },
          "metadata": {
            "needs_background": "light"
          }
        },
        {
          "output_type": "display_data",
          "data": {
            "text/plain": [
              "<Figure size 864x432 with 2 Axes>"
            ],
            "image/png": "[encoded data removed]"
          },
          "metadata": {
            "needs_background": "light"
          }
        }
      ]
    },
    {
      "cell_type": "markdown",
      "metadata": {
        "id": "TF0WGbR6AYNz"
      },
      "source": [
        "We will scale these values in the range of 0 and 1 before before feeding the neural network model. To do this, we divide the values by 255. It is important that the training set and the test set can be pre-processed in the same way:"
      ]
    },
    {
      "cell_type": "code",
      "execution_count": 123,
      "metadata": {
        "id": "_9DBq5H_AYNz"
      },
      "outputs": [],
      "source": [
        "\n",
        "# Normalize image vectors\n",
        "X_train = X_train / 255.0\n",
        "X_test = X_test / 255.0\n"
      ]
    },
    {
      "cell_type": "markdown",
      "metadata": {
        "id": "DqNS_RDHAYNz"
      },
      "source": [
        "# Building Neural Network\n",
        "### 2.2 - Building the model\n",
        "Ok in this step, We will build the architecture of Neural Network.\n",
        "\n",
        "Architecture:\n",
        "\n",
        "\n",
        "\n",
        "*   **InputLayer**: This layer is responsible to receive The features of the data set, in the case of our problem the images have 3 dimensions (60000, 28.28) are 28x28 images in the case we should have 28 * 28 = 784, input neurons (the amount depends on the format and the number of features of your problem)\n",
        "\n",
        "*   **Flatten**: This layer is specific, because We use for reshape features into 1D array, Flattens the input, Does not affect the batch size, serialize the tensor for the next layer.\n",
        "\n",
        "\n",
        "\n",
        "*   **Hidden Layer 1** : This is first hidden layer on our network, it will consist of 128 neurons and will use an activation function called \"reLu\" (there are other activation functions available) I put 128 neurons in a playful way and without any reference, the goal is to understand the structure of a neural network built using TensorFlow.\n",
        "\n",
        "*   **Hidden Layer 2** : This is ours second hidden layer, it will consist of 128 neurons and also will use activation function \"reLu\"\n",
        "\n",
        "\n",
        "\n",
        "*   **Output Layer** : Finally, ours last layer in neural network the output layer is found by 10 neurons representing the 10 classes we have (in a playful way you can think of, as a specific final neuron for that class) your activation function is \"Softmax\" this activation fuction is specific for MultiClass problems.\n",
        "\n",
        "you could use: \n",
        "\n",
        "```python\n",
        "InputLayer(input_shape=(,), name='') \n",
        "\n",
        "Flatten(name='') \n",
        "\n",
        "Dense(units=, activation='', name='')\n",
        " "
      ]
    },
    {
      "cell_type": "code",
      "execution_count": 124,
      "metadata": {
        "id": "E56Z8HZ1AYN0"
      },
      "outputs": [],
      "source": [
        "model = Sequential([\n",
        "    \n",
        "    ### START CODE HERE ### \n",
        "    InputLayer(input_shape=(28 ,28), name='InputLayer') ,\n",
        "    Flatten(name='Flatten') ,\n",
        "    Dense(units=128, activation='relu', name='hidden_layer_1'),\n",
        "    Dense(units=128, activation='relu', name='hidden_layer_2'),\n",
        "    Dense(units=10, activation='softmax', name='output_layer')\n",
        "\n",
        "    ### END CODE HERE ###\n",
        "                    ])\n",
        "        \n",
        "    \n",
        "    "
      ]
    },
    {
      "cell_type": "markdown",
      "source": [
        "Summary fo the built neural network, with him We can visualize the complete architecture."
      ],
      "metadata": {
        "id": "ZeMhhklomGhS"
      }
    },
    {
      "cell_type": "code",
      "source": [
        "# summary \n",
        "print(model.summary())"
      ],
      "metadata": {
        "colab": {
          "base_uri": "https://localhost:8080/"
        },
        "id": "600KZ_RlmIak",
        "outputId": "50d4c333-9744-4f6a-a7f7-c139185945a4"
      },
      "execution_count": 125,
      "outputs": [
        {
          "output_type": "stream",
          "name": "stdout",
          "text": [
            "Model: \"sequential_3\"\n",
            "_________________________________________________________________\n",
            " Layer (type)                Output Shape              Param #   \n",
            "=================================================================\n",
            " Flatten (Flatten)           (None, 784)               0         \n",
            "                                                                 \n",
            " hidden_layer_1 (Dense)      (None, 128)               100480    \n",
            "                                                                 \n",
            " hidden_layer_2 (Dense)      (None, 128)               16512     \n",
            "                                                                 \n",
            " output_layer (Dense)        (None, 10)                1290      \n",
            "                                                                 \n",
            "=================================================================\n",
            "Total params: 118,282\n",
            "Trainable params: 118,282\n",
            "Non-trainable params: 0\n",
            "_________________________________________________________________\n",
            "None\n"
          ]
        }
      ]
    },
    {
      "cell_type": "markdown",
      "source": [
        "**Expected Output**: \n",
        "\n",
        "| Layer (type)       | Output Shape | Param #  |\n",
        "|--------------------|--------------|----------|\n",
        "| Flatten (Flatten)            | (None, 784)  | 0        |\n",
        "| hidden_layer_1(Dense)     | (None, 128)  | 100480  |\n",
        "| hidden_layer_2 (Dense)    | (None, 128)   | 16512    |\n",
        "| output_layer (Dense)      | (None, 10)   | 1290     |\n",
        "|------------------|------------------|----------------------|\n",
        "| Total params     | 118,282  |\n",
        "|Trainable params    | 118,282\n",
        "| Non-trainable params | 0 \n",
        "|------------------|------------------|----------------------|\n",
        "| None          |                              |\n",
        "\n"
      ],
      "metadata": {
        "id": "kahvPIb1p8gI"
      }
    },
    {
      "cell_type": "markdown",
      "source": [
        "In this next step, We will compile the model, Let's insert some more parameters.\n",
        "\n",
        "- **Optmizer**: We will use Stochastic Gradient descent with Optimizer in our Network, We called the SGD, Responsible for calculating the gradients of the layers(Remember learning rate is 0.001).\n",
        "\n",
        "- **Loss**: The loss function is the function, That we want to minimize, you should use the categorical cross-entropy loss function.\n",
        "\n",
        "- **Metric**: This is metric, where model will be guided, most metrics for classification, We will use the Accuracy."
      ],
      "metadata": {
        "id": "iyBHjrgPrqeJ"
      }
    },
    {
      "cell_type": "code",
      "source": [
        "### START CODE HERE ###\n",
        "# model.compile(\n",
        "#   optimizer = SGD(0.001),\n",
        "#   loss = SparseCategoricalCrossentropy(from_logits=True),\n",
        "#   metrics=[tf.keras.metrics.SparseCategoricalAccuracy()]\n",
        "# )\n",
        "model.compile(optimizer=SGD(0.001), loss=SparseCategoricalCrossentropy(from_logits=False), metrics=['accuracy'])\n",
        "### END CODE HERE ###              "
      ],
      "metadata": {
        "id": "dH7albZLr0Wv"
      },
      "execution_count": 126,
      "outputs": []
    },
    {
      "cell_type": "markdown",
      "source": [
        "And Finally, We will can train our model! let's go\n",
        "\n",
        "- **Epoch** : An epoch is a measure of the number of times all of the training vectors are used once to update the weights. For batch training all of the training samples pass through the learning algorithm simultaneously in one epoch before weights are updated.\n",
        "\n",
        "\n",
        "- **Batch_size** : The batch size is a number of samples processed before the model is updated. The number of epochs is the number of complete passes through the training dataset. The size of a batch must be more than or equal to one and less than or equal to the number of samples in the training dataset.\n",
        "\n",
        "\n",
        "Once again I will use random values, as our goal is for a didactic purpose"
      ],
      "metadata": {
        "id": "tssBRlw0uNEK"
      }
    },
    {
      "cell_type": "code",
      "source": [
        "np.random.seed(seed=42)\n",
        "\n",
        "history = model.fit(X_train, y_train, epochs=30, batch_size=64, validation_split=0.20)"
      ],
      "metadata": {
        "colab": {
          "base_uri": "https://localhost:8080/"
        },
        "id": "xQa0r93GuL-z",
        "outputId": "2e8598d8-f1c1-4be5-860f-9c75225b04ff"
      },
      "execution_count": 127,
      "outputs": [
        {
          "output_type": "stream",
          "name": "stdout",
          "text": [
            "Epoch 1/30\n",
            "750/750 [==============================] - 4s 5ms/step - loss: 1.9656 - accuracy: 0.3854 - val_loss: 1.6031 - val_accuracy: 0.5663\n",
            "Epoch 2/30\n",
            "750/750 [==============================] - 3s 4ms/step - loss: 1.3701 - accuracy: 0.6206 - val_loss: 1.1662 - val_accuracy: 0.6633\n",
            "Epoch 3/30\n",
            "750/750 [==============================] - 3s 4ms/step - loss: 1.0676 - accuracy: 0.6684 - val_loss: 0.9665 - val_accuracy: 0.6894\n",
            "Epoch 4/30\n",
            "750/750 [==============================] - 4s 6ms/step - loss: 0.9212 - accuracy: 0.6972 - val_loss: 0.8613 - val_accuracy: 0.7137\n",
            "Epoch 5/30\n",
            "750/750 [==============================] - 6s 8ms/step - loss: 0.8376 - accuracy: 0.7228 - val_loss: 0.7958 - val_accuracy: 0.7368\n",
            "Epoch 6/30\n",
            "750/750 [==============================] - 5s 7ms/step - loss: 0.7814 - accuracy: 0.7443 - val_loss: 0.7505 - val_accuracy: 0.7542\n",
            "Epoch 7/30\n",
            "750/750 [==============================] - 6s 8ms/step - loss: 0.7400 - accuracy: 0.7573 - val_loss: 0.7160 - val_accuracy: 0.7658\n",
            "Epoch 8/30\n",
            "750/750 [==============================] - 3s 5ms/step - loss: 0.7075 - accuracy: 0.7690 - val_loss: 0.6873 - val_accuracy: 0.7743\n",
            "Epoch 9/30\n",
            "750/750 [==============================] - 2s 3ms/step - loss: 0.6808 - accuracy: 0.7779 - val_loss: 0.6637 - val_accuracy: 0.7806\n",
            "Epoch 10/30\n",
            "750/750 [==============================] - 4s 5ms/step - loss: 0.6581 - accuracy: 0.7849 - val_loss: 0.6436 - val_accuracy: 0.7873\n",
            "Epoch 11/30\n",
            "750/750 [==============================] - 3s 5ms/step - loss: 0.6386 - accuracy: 0.7913 - val_loss: 0.6277 - val_accuracy: 0.7910\n",
            "Epoch 12/30\n",
            "750/750 [==============================] - 3s 4ms/step - loss: 0.6216 - accuracy: 0.7961 - val_loss: 0.6119 - val_accuracy: 0.7974\n",
            "Epoch 13/30\n",
            "750/750 [==============================] - 3s 4ms/step - loss: 0.6067 - accuracy: 0.8005 - val_loss: 0.5985 - val_accuracy: 0.8018\n",
            "Epoch 14/30\n",
            "750/750 [==============================] - 3s 4ms/step - loss: 0.5931 - accuracy: 0.8044 - val_loss: 0.5889 - val_accuracy: 0.8038\n",
            "Epoch 15/30\n",
            "750/750 [==============================] - 3s 4ms/step - loss: 0.5814 - accuracy: 0.8086 - val_loss: 0.5768 - val_accuracy: 0.8083\n",
            "Epoch 16/30\n",
            "750/750 [==============================] - 3s 3ms/step - loss: 0.5708 - accuracy: 0.8115 - val_loss: 0.5679 - val_accuracy: 0.8092\n",
            "Epoch 17/30\n",
            "750/750 [==============================] - 3s 4ms/step - loss: 0.5610 - accuracy: 0.8139 - val_loss: 0.5598 - val_accuracy: 0.8118\n",
            "Epoch 18/30\n",
            "750/750 [==============================] - 2s 3ms/step - loss: 0.5523 - accuracy: 0.8167 - val_loss: 0.5515 - val_accuracy: 0.8127\n",
            "Epoch 19/30\n",
            "750/750 [==============================] - 3s 4ms/step - loss: 0.5445 - accuracy: 0.8182 - val_loss: 0.5437 - val_accuracy: 0.8153\n",
            "Epoch 20/30\n",
            "750/750 [==============================] - 3s 3ms/step - loss: 0.5373 - accuracy: 0.8195 - val_loss: 0.5382 - val_accuracy: 0.8162\n",
            "Epoch 21/30\n",
            "750/750 [==============================] - 3s 4ms/step - loss: 0.5306 - accuracy: 0.8214 - val_loss: 0.5314 - val_accuracy: 0.8173\n",
            "Epoch 22/30\n",
            "750/750 [==============================] - 3s 4ms/step - loss: 0.5243 - accuracy: 0.8241 - val_loss: 0.5270 - val_accuracy: 0.8185\n",
            "Epoch 23/30\n",
            "750/750 [==============================] - 3s 4ms/step - loss: 0.5186 - accuracy: 0.8247 - val_loss: 0.5232 - val_accuracy: 0.8183\n",
            "Epoch 24/30\n",
            "750/750 [==============================] - 3s 4ms/step - loss: 0.5133 - accuracy: 0.8270 - val_loss: 0.5165 - val_accuracy: 0.8237\n",
            "Epoch 25/30\n",
            "750/750 [==============================] - 3s 4ms/step - loss: 0.5085 - accuracy: 0.8279 - val_loss: 0.5115 - val_accuracy: 0.8233\n",
            "Epoch 26/30\n",
            "750/750 [==============================] - 3s 4ms/step - loss: 0.5035 - accuracy: 0.8292 - val_loss: 0.5076 - val_accuracy: 0.8255\n",
            "Epoch 27/30\n",
            "750/750 [==============================] - 3s 4ms/step - loss: 0.4993 - accuracy: 0.8298 - val_loss: 0.5045 - val_accuracy: 0.8246\n",
            "Epoch 28/30\n",
            "750/750 [==============================] - 3s 4ms/step - loss: 0.4953 - accuracy: 0.8315 - val_loss: 0.5000 - val_accuracy: 0.8269\n",
            "Epoch 29/30\n",
            "750/750 [==============================] - 3s 4ms/step - loss: 0.4915 - accuracy: 0.8320 - val_loss: 0.4976 - val_accuracy: 0.8278\n",
            "Epoch 30/30\n",
            "750/750 [==============================] - 3s 3ms/step - loss: 0.4878 - accuracy: 0.8332 - val_loss: 0.4951 - val_accuracy: 0.8283\n"
          ]
        }
      ]
    },
    {
      "cell_type": "markdown",
      "metadata": {
        "id": "Ws_kD14HAYN1"
      },
      "source": [
        "### 2.3 Evaluation\n",
        "\n",
        "The code snippet is used to evaluate the performance of a machine learning model on the test set. The inputs are:\n",
        "\n",
        "- X_test: the feature data of the test set\n",
        "- y_test: the label data of the test set\n",
        "- verbose: set to 2 to print detailed information during evaluation, set to 0 to print no information, set to 1 to print a progress bar.\n",
        "\n",
        "The function returns the average loss and accuracy of the model on the test set. The loss (test_loss) is the average loss value of the model on the test set, and the accuracy (test_acc) is the average accuracy of the model on the test set. These metrics can help us evaluate the generalization ability of the model, i.e., the performance of the model on unseen data.."
      ]
    },
    {
      "cell_type": "code",
      "execution_count": 128,
      "metadata": {
        "id": "X351Jfe9AYN2",
        "colab": {
          "base_uri": "https://localhost:8080/"
        },
        "outputId": "84dae8cb-403a-42c8-dd17-9a8592a932c5"
      },
      "outputs": [
        {
          "output_type": "stream",
          "name": "stdout",
          "text": [
            "313/313 - 1s - loss: 0.5164 - accuracy: 0.8207 - 651ms/epoch - 2ms/step\n"
          ]
        }
      ],
      "source": [
        "# evaluation \n",
        "test_loss, test_acc = model.evaluate(X_test,  y_test, verbose=2)"
      ]
    },
    {
      "cell_type": "code",
      "execution_count": 129,
      "metadata": {
        "colab": {
          "base_uri": "https://localhost:8080/"
        },
        "id": "fNdBuWm1AYN2",
        "outputId": "4880f1fb-3db3-4ba5-c218-3f6c323034f6"
      },
      "outputs": [
        {
          "output_type": "stream",
          "name": "stdout",
          "text": [
            "Binary CrossEntropy: 0.5163620114326477\n",
            "Accuracy: 0.8206999897956848\n"
          ]
        }
      ],
      "source": [
        "# first metrics the Neural network \n",
        "print('Binary CrossEntropy: {}'.format(test_loss))\n",
        "print('Accuracy: {}'.format(test_acc))"
      ]
    },
    {
      "cell_type": "markdown",
      "source": [
        "After computing the accuracy score and classification report for each class in the Fashion MNIST dataset, it can be helpful to visualize these metrics to gain a better understanding of the performance of the model for each class."
      ],
      "metadata": {
        "id": "YksCSjpswDDm"
      }
    },
    {
      "cell_type": "code",
      "source": [
        "#  metrics for each class\n",
        "\n",
        "y_pred = model.predict(X_test).argmax(axis=-1)\n",
        "y_proba = model.predict(X_test).max(axis=-1)\n",
        "print('Accuracy: {}'.format(accuracy_score(y_test, y_pred)))\n",
        "print('\\n')\n",
        "print(classification_report(y_test, y_pred))"
      ],
      "metadata": {
        "colab": {
          "base_uri": "https://localhost:8080/"
        },
        "id": "qt--wcD1vDpC",
        "outputId": "29d0abdd-2721-4a68-a0af-3ec3c2acd823"
      },
      "execution_count": 130,
      "outputs": [
        {
          "output_type": "stream",
          "name": "stdout",
          "text": [
            "313/313 [==============================] - 1s 2ms/step\n",
            "313/313 [==============================] - 1s 2ms/step\n",
            "Accuracy: 0.8207\n",
            "\n",
            "\n",
            "              precision    recall  f1-score   support\n",
            "\n",
            "           0       0.79      0.78      0.79      1000\n",
            "           1       0.97      0.94      0.95      1000\n",
            "           2       0.72      0.71      0.71      1000\n",
            "           3       0.80      0.85      0.82      1000\n",
            "           4       0.73      0.72      0.73      1000\n",
            "           5       0.94      0.89      0.91      1000\n",
            "           6       0.57      0.55      0.56      1000\n",
            "           7       0.89      0.90      0.89      1000\n",
            "           8       0.92      0.94      0.93      1000\n",
            "           9       0.89      0.94      0.91      1000\n",
            "\n",
            "    accuracy                           0.82     10000\n",
            "   macro avg       0.82      0.82      0.82     10000\n",
            "weighted avg       0.82      0.82      0.82     10000\n",
            "\n"
          ]
        }
      ]
    },
    {
      "cell_type": "markdown",
      "source": [
        "## Learning curve\n",
        "We will plotting the learning curve for analyze the behavior the Neural network."
      ],
      "metadata": {
        "id": "LBZNDNjywmWl"
      }
    },
    {
      "cell_type": "code",
      "source": [
        "# Accuracy \n",
        "\n",
        "plt.plot(history.history['accuracy'])\n",
        "plt.plot(history.history['val_accuracy'])\n",
        "plt.title('Accuracy', fontsize=14)\n",
        "plt.xlabel('Epoch', fontsize=14)\n",
        "plt.ylabel('Accuracy',fontsize=14)\n",
        "plt.legend(['Train', 'Test'], loc='upper left')\n",
        "plt.show()\n",
        "\n",
        "\n",
        "print('\\n')\n",
        "print('\\n')\n",
        "\n",
        "\n",
        "# Cross Entropy  \n",
        "plt.plot(history.history['loss'])\n",
        "plt.plot(history.history['val_loss'])\n",
        "plt.title('LogLoss', fontsize=14)\n",
        "plt.xlabel('Epoch', fontsize=14)\n",
        "plt.ylabel('Loss',fontsize=14)\n",
        "plt.legend(['Train', 'Test'], loc='upper left')\n",
        "plt.show()"
      ],
      "metadata": {
        "colab": {
          "base_uri": "https://localhost:8080/",
          "height": 654
        },
        "id": "4VQxKxsowpPD",
        "outputId": "bc3c9062-45c3-4613-a3ab-feceb895d38a"
      },
      "execution_count": 131,
      "outputs": [
        {
          "output_type": "display_data",
          "data": {
            "text/plain": [
              "<Figure size 432x288 with 1 Axes>"
            ],
            "image/png": "[encoded data removed]"
          },
          "metadata": {
            "needs_background": "light"
          }
        },
        {
          "output_type": "stream",
          "name": "stdout",
          "text": [
            "\n",
            "\n",
            "\n",
            "\n"
          ]
        },
        {
          "output_type": "display_data",
          "data": {
            "text/plain": [
              "<Figure size 432x288 with 1 Axes>"
            ],
            "image/png": "[encoded data removed]"
          },
          "metadata": {
            "needs_background": "light"
          }
        }
      ]
    },
    {
      "cell_type": "markdown",
      "source": [
        "## **Congratulations on finishing this assignment.**"
      ],
      "metadata": {
        "id": "toJnw8BbzC6C"
      }
    }
  ],
  "metadata": {
    "coursera": {
      "course_slug": "deep-neural-network",
      "graded_item_id": "BFd89",
      "launcher_item_id": "AH2rK"
    },
    "kernelspec": {
      "display_name": "Python 3",
      "language": "python",
      "name": "python3"
    },
    "language_info": {
      "codemirror_mode": {
        "name": "ipython",
        "version": 3
      },
      "file_extension": ".py",
      "mimetype": "text/x-python",
      "name": "python",
      "nbconvert_exporter": "python",
      "pygments_lexer": "ipython3",
      "version": "3.6.8"
    },
    "colab": {
      "provenance": []
    },
    "accelerator": "GPU"
  },
  "nbformat": 4,
  "nbformat_minor": 0
}